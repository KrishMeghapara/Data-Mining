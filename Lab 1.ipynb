{
 "cells": [
  {
   "cell_type": "markdown",
   "id": "359025c2",
   "metadata": {},
   "source": [
    "<a href='https://www.darshan.ac.in/'> <img src='https://www.darshan.ac.in/Content/media/DU_Logo.svg' width=\"250\" height=\"300\"/></a>\n",
    "<pre>\n",
    "<center><b><h1>Data Mining</b></center>\n",
    "<center><b><h1>Lab - 1</b></center>    \n",
    "<pre>"
   ]
  },
  {
   "cell_type": "markdown",
   "id": "f1e5b553-7f48-4876-be39-2d72e4e99633",
   "metadata": {},
   "source": [
    "<h1>Krish Meghapara S.</h1>\n",
    "<h2>23010101164</h2>"
   ]
  },
  {
   "cell_type": "markdown",
   "id": "f493e5c9",
   "metadata": {},
   "source": [
    "# Introduction to Pandas Library Function:"
   ]
  },
  {
   "cell_type": "markdown",
   "id": "ec070177",
   "metadata": {},
   "source": [
    "# Step-1 Import the pandas Libraries"
   ]
  },
  {
   "cell_type": "code",
   "execution_count": 1,
   "id": "12bb35a4",
   "metadata": {},
   "outputs": [],
   "source": [
    "import pandas as pd \n"
   ]
  },
  {
   "cell_type": "markdown",
   "id": "539711f0",
   "metadata": {},
   "source": [
    "# Step-2 Import the dataset from this:...."
   ]
  },
  {
   "cell_type": "code",
   "execution_count": 3,
   "id": "793c1e70",
   "metadata": {},
   "outputs": [],
   "source": [
    "import pandas as pd \n",
    "\n",
    "df = pd.read_csv('titanic.csv');"
   ]
  },
  {
   "cell_type": "markdown",
   "id": "0f4bc181",
   "metadata": {},
   "source": [
    "# Step-3 Read csv or excel File"
   ]
  },
  {
   "cell_type": "code",
   "execution_count": null,
   "id": "993dc571",
   "metadata": {},
   "outputs": [],
   "source": [
    "import pandas as pd \n",
    "\n",
    "df = pd.read_csv('titanic.csv');"
   ]
  },
  {
   "cell_type": "markdown",
   "id": "50008df1",
   "metadata": {},
   "source": [
    "# Step-4 Print Data from csv or excel File"
   ]
  },
  {
   "cell_type": "code",
   "execution_count": 4,
   "id": "a878eb1a",
   "metadata": {},
   "outputs": [
    {
     "name": "stdout",
     "output_type": "stream",
     "text": [
      "     PassengerId  Survived  Pclass  \\\n",
      "0              1         0       3   \n",
      "1              2         1       1   \n",
      "2              3         1       3   \n",
      "3              4         1       1   \n",
      "4              5         0       3   \n",
      "..           ...       ...     ...   \n",
      "886          887         0       2   \n",
      "887          888         1       1   \n",
      "888          889         0       3   \n",
      "889          890         1       1   \n",
      "890          891         0       3   \n",
      "\n",
      "                                                  Name     Sex   Age  SibSp  \\\n",
      "0                              Braund, Mr. Owen Harris    male  22.0      1   \n",
      "1    Cumings, Mrs. John Bradley (Florence Briggs Th...  female  38.0      1   \n",
      "2                               Heikkinen, Miss. Laina  female  26.0      0   \n",
      "3         Futrelle, Mrs. Jacques Heath (Lily May Peel)  female  35.0      1   \n",
      "4                             Allen, Mr. William Henry    male  35.0      0   \n",
      "..                                                 ...     ...   ...    ...   \n",
      "886                              Montvila, Rev. Juozas    male  27.0      0   \n",
      "887                       Graham, Miss. Margaret Edith  female  19.0      0   \n",
      "888           Johnston, Miss. Catherine Helen \"Carrie\"  female   NaN      1   \n",
      "889                              Behr, Mr. Karl Howell    male  26.0      0   \n",
      "890                                Dooley, Mr. Patrick    male  32.0      0   \n",
      "\n",
      "     Parch            Ticket     Fare Cabin Embarked  \n",
      "0        0         A/5 21171   7.2500   NaN        S  \n",
      "1        0          PC 17599  71.2833   C85        C  \n",
      "2        0  STON/O2. 3101282   7.9250   NaN        S  \n",
      "3        0            113803  53.1000  C123        S  \n",
      "4        0            373450   8.0500   NaN        S  \n",
      "..     ...               ...      ...   ...      ...  \n",
      "886      0            211536  13.0000   NaN        S  \n",
      "887      0            112053  30.0000   B42        S  \n",
      "888      2        W./C. 6607  23.4500   NaN        S  \n",
      "889      0            111369  30.0000  C148        C  \n",
      "890      0            370376   7.7500   NaN        Q  \n",
      "\n",
      "[891 rows x 12 columns]\n"
     ]
    }
   ],
   "source": [
    "print(df)"
   ]
  },
  {
   "cell_type": "markdown",
   "id": "ffeb6d6d",
   "metadata": {},
   "source": [
    "# Step-5 See the First 10 Rows"
   ]
  },
  {
   "cell_type": "code",
   "execution_count": 8,
   "id": "17393c5c",
   "metadata": {},
   "outputs": [
    {
     "name": "stdout",
     "output_type": "stream",
     "text": [
      "   PassengerId  Survived  Pclass  \\\n",
      "0            1         0       3   \n",
      "1            2         1       1   \n",
      "2            3         1       3   \n",
      "3            4         1       1   \n",
      "4            5         0       3   \n",
      "5            6         0       3   \n",
      "6            7         0       1   \n",
      "7            8         0       3   \n",
      "8            9         1       3   \n",
      "9           10         1       2   \n",
      "\n",
      "                                                Name     Sex   Age  SibSp  \\\n",
      "0                            Braund, Mr. Owen Harris    male  22.0      1   \n",
      "1  Cumings, Mrs. John Bradley (Florence Briggs Th...  female  38.0      1   \n",
      "2                             Heikkinen, Miss. Laina  female  26.0      0   \n",
      "3       Futrelle, Mrs. Jacques Heath (Lily May Peel)  female  35.0      1   \n",
      "4                           Allen, Mr. William Henry    male  35.0      0   \n",
      "5                                   Moran, Mr. James    male   NaN      0   \n",
      "6                            McCarthy, Mr. Timothy J    male  54.0      0   \n",
      "7                     Palsson, Master. Gosta Leonard    male   2.0      3   \n",
      "8  Johnson, Mrs. Oscar W (Elisabeth Vilhelmina Berg)  female  27.0      0   \n",
      "9                Nasser, Mrs. Nicholas (Adele Achem)  female  14.0      1   \n",
      "\n",
      "   Parch            Ticket     Fare Cabin Embarked  \n",
      "0      0         A/5 21171   7.2500   NaN        S  \n",
      "1      0          PC 17599  71.2833   C85        C  \n",
      "2      0  STON/O2. 3101282   7.9250   NaN        S  \n",
      "3      0            113803  53.1000  C123        S  \n",
      "4      0            373450   8.0500   NaN        S  \n",
      "5      0            330877   8.4583   NaN        Q  \n",
      "6      0             17463  51.8625   E46        S  \n",
      "7      1            349909  21.0750   NaN        S  \n",
      "8      2            347742  11.1333   NaN        S  \n",
      "9      0            237736  30.0708   NaN        C  \n"
     ]
    }
   ],
   "source": [
    "print(df.head(10))"
   ]
  },
  {
   "cell_type": "markdown",
   "id": "c87ff96e",
   "metadata": {},
   "source": [
    "# Step-6 See the Last 10 Rows"
   ]
  },
  {
   "cell_type": "code",
   "execution_count": 9,
   "id": "5cb640e1",
   "metadata": {},
   "outputs": [
    {
     "name": "stdout",
     "output_type": "stream",
     "text": [
      "     PassengerId  Survived  Pclass                                      Name  \\\n",
      "881          882         0       3                        Markun, Mr. Johann   \n",
      "882          883         0       3              Dahlberg, Miss. Gerda Ulrika   \n",
      "883          884         0       2             Banfield, Mr. Frederick James   \n",
      "884          885         0       3                    Sutehall, Mr. Henry Jr   \n",
      "885          886         0       3      Rice, Mrs. William (Margaret Norton)   \n",
      "886          887         0       2                     Montvila, Rev. Juozas   \n",
      "887          888         1       1              Graham, Miss. Margaret Edith   \n",
      "888          889         0       3  Johnston, Miss. Catherine Helen \"Carrie\"   \n",
      "889          890         1       1                     Behr, Mr. Karl Howell   \n",
      "890          891         0       3                       Dooley, Mr. Patrick   \n",
      "\n",
      "        Sex   Age  SibSp  Parch            Ticket     Fare Cabin Embarked  \n",
      "881    male  33.0      0      0            349257   7.8958   NaN        S  \n",
      "882  female  22.0      0      0              7552  10.5167   NaN        S  \n",
      "883    male  28.0      0      0  C.A./SOTON 34068  10.5000   NaN        S  \n",
      "884    male  25.0      0      0   SOTON/OQ 392076   7.0500   NaN        S  \n",
      "885  female  39.0      0      5            382652  29.1250   NaN        Q  \n",
      "886    male  27.0      0      0            211536  13.0000   NaN        S  \n",
      "887  female  19.0      0      0            112053  30.0000   B42        S  \n",
      "888  female   NaN      1      2        W./C. 6607  23.4500   NaN        S  \n",
      "889    male  26.0      0      0            111369  30.0000  C148        C  \n",
      "890    male  32.0      0      0            370376   7.7500   NaN        Q  \n"
     ]
    }
   ],
   "source": [
    "print(df.tail(10))"
   ]
  },
  {
   "cell_type": "markdown",
   "id": "7f35e792",
   "metadata": {},
   "source": [
    "# Step-7 Data type of each columns"
   ]
  },
  {
   "cell_type": "code",
   "execution_count": 21,
   "id": "12b75a7a",
   "metadata": {},
   "outputs": [
    {
     "data": {
      "text/plain": [
       "PassengerId      int64\n",
       "Survived         int64\n",
       "Pclass           int64\n",
       "Name            object\n",
       "Sex             object\n",
       "Age            float64\n",
       "SibSp            int64\n",
       "Parch            int64\n",
       "Ticket          object\n",
       "Fare           float64\n",
       "Cabin           object\n",
       "Embarked        object\n",
       "dtype: object"
      ]
     },
     "execution_count": 21,
     "metadata": {},
     "output_type": "execute_result"
    }
   ],
   "source": [
    "df.dtypes"
   ]
  },
  {
   "cell_type": "markdown",
   "id": "8fb193ee",
   "metadata": {},
   "source": [
    "# Step-8 Display Summary Information"
   ]
  },
  {
   "cell_type": "code",
   "execution_count": 15,
   "id": "0d9edc63",
   "metadata": {},
   "outputs": [
    {
     "name": "stdout",
     "output_type": "stream",
     "text": [
      "<class 'pandas.core.frame.DataFrame'>\n",
      "RangeIndex: 891 entries, 0 to 890\n",
      "Data columns (total 12 columns):\n",
      " #   Column       Non-Null Count  Dtype  \n",
      "---  ------       --------------  -----  \n",
      " 0   PassengerId  891 non-null    int64  \n",
      " 1   Survived     891 non-null    int64  \n",
      " 2   Pclass       891 non-null    int64  \n",
      " 3   Name         891 non-null    object \n",
      " 4   Sex          891 non-null    object \n",
      " 5   Age          714 non-null    float64\n",
      " 6   SibSp        891 non-null    int64  \n",
      " 7   Parch        891 non-null    int64  \n",
      " 8   Ticket       891 non-null    object \n",
      " 9   Fare         891 non-null    float64\n",
      " 10  Cabin        204 non-null    object \n",
      " 11  Embarked     889 non-null    object \n",
      "dtypes: float64(2), int64(5), object(5)\n",
      "memory usage: 83.7+ KB\n",
      "None\n"
     ]
    }
   ],
   "source": [
    "print(df.info())"
   ]
  },
  {
   "cell_type": "markdown",
   "id": "76b942e1",
   "metadata": {},
   "source": [
    "# Step-9 Access a specific column "
   ]
  },
  {
   "cell_type": "code",
   "execution_count": 17,
   "id": "a70add09",
   "metadata": {},
   "outputs": [
    {
     "name": "stdin",
     "output_type": "stream",
     "text": [
      "enter a specific column name :  Age\n"
     ]
    },
    {
     "name": "stdout",
     "output_type": "stream",
     "text": [
      "0      22.0\n",
      "1      38.0\n",
      "2      26.0\n",
      "3      35.0\n",
      "4      35.0\n",
      "       ... \n",
      "886    27.0\n",
      "887    19.0\n",
      "888     NaN\n",
      "889    26.0\n",
      "890    32.0\n",
      "Name: Age, Length: 891, dtype: float64\n"
     ]
    }
   ],
   "source": [
    "ColumnName = input('enter a specific column name : ')\n",
    "print(df[ColumnName])"
   ]
  },
  {
   "cell_type": "markdown",
   "id": "55365673",
   "metadata": {},
   "source": [
    "# Step-10 Access rows by their integer location"
   ]
  },
  {
   "cell_type": "code",
   "execution_count": 27,
   "id": "e89cc4b1",
   "metadata": {},
   "outputs": [
    {
     "name": "stdin",
     "output_type": "stream",
     "text": [
      " enter a specific row Number  :  5\n"
     ]
    },
    {
     "name": "stdout",
     "output_type": "stream",
     "text": [
      "PassengerId                   6\n",
      "Survived                      0\n",
      "Pclass                        3\n",
      "Name           Moran, Mr. James\n",
      "Sex                        male\n",
      "Age                         NaN\n",
      "SibSp                         0\n",
      "Parch                         0\n",
      "Ticket                   330877\n",
      "Fare                     8.4583\n",
      "Cabin                       NaN\n",
      "Embarked                      Q\n",
      "Name: 5, dtype: object\n"
     ]
    }
   ],
   "source": [
    "RowName = int(input(' enter a specific row Number  : '))\n",
    "print(df.iloc[RowName])"
   ]
  },
  {
   "cell_type": "markdown",
   "id": "ef3591cf",
   "metadata": {},
   "source": [
    "# Step-11 Delete a specific Column"
   ]
  },
  {
   "cell_type": "code",
   "execution_count": 26,
   "id": "7ffb2c4d",
   "metadata": {},
   "outputs": [
    {
     "name": "stdin",
     "output_type": "stream",
     "text": [
      "enter a specific column name :  Cabin\n"
     ]
    },
    {
     "name": "stdout",
     "output_type": "stream",
     "text": [
      "     PassengerId  Survived  Pclass  \\\n",
      "0              1         0       3   \n",
      "1              2         1       1   \n",
      "2              3         1       3   \n",
      "3              4         1       1   \n",
      "4              5         0       3   \n",
      "..           ...       ...     ...   \n",
      "886          887         0       2   \n",
      "887          888         1       1   \n",
      "888          889         0       3   \n",
      "889          890         1       1   \n",
      "890          891         0       3   \n",
      "\n",
      "                                                  Name     Sex   Age  SibSp  \\\n",
      "0                              Braund, Mr. Owen Harris    male  22.0      1   \n",
      "1    Cumings, Mrs. John Bradley (Florence Briggs Th...  female  38.0      1   \n",
      "2                               Heikkinen, Miss. Laina  female  26.0      0   \n",
      "3         Futrelle, Mrs. Jacques Heath (Lily May Peel)  female  35.0      1   \n",
      "4                             Allen, Mr. William Henry    male  35.0      0   \n",
      "..                                                 ...     ...   ...    ...   \n",
      "886                              Montvila, Rev. Juozas    male  27.0      0   \n",
      "887                       Graham, Miss. Margaret Edith  female  19.0      0   \n",
      "888           Johnston, Miss. Catherine Helen \"Carrie\"  female   NaN      1   \n",
      "889                              Behr, Mr. Karl Howell    male  26.0      0   \n",
      "890                                Dooley, Mr. Patrick    male  32.0      0   \n",
      "\n",
      "     Parch            Ticket     Fare Embarked  \n",
      "0        0         A/5 21171   7.2500        S  \n",
      "1        0          PC 17599  71.2833        C  \n",
      "2        0  STON/O2. 3101282   7.9250        S  \n",
      "3        0            113803  53.1000        S  \n",
      "4        0            373450   8.0500        S  \n",
      "..     ...               ...      ...      ...  \n",
      "886      0            211536  13.0000        S  \n",
      "887      0            112053  30.0000        S  \n",
      "888      2        W./C. 6607  23.4500        S  \n",
      "889      0            111369  30.0000        C  \n",
      "890      0            370376   7.7500        Q  \n",
      "\n",
      "[891 rows x 11 columns]\n"
     ]
    }
   ],
   "source": [
    "ColumnName = input('enter a specific column name : ')\n",
    "print(df.drop(ColumnName,axis=1,))\n",
    "# print(df.drop(ColumnName,axis=1,inplace=True)) // make changes to origial DataFrame .. "
   ]
  },
  {
   "cell_type": "markdown",
   "id": "22c97515",
   "metadata": {},
   "source": [
    "# Step-12  Create a new Column"
   ]
  },
  {
   "cell_type": "code",
   "execution_count": 29,
   "id": "89515a51",
   "metadata": {},
   "outputs": [
    {
     "name": "stdout",
     "output_type": "stream",
     "text": [
      "     PassengerId  Survived  Pclass  \\\n",
      "0              1         0       3   \n",
      "1              2         1       1   \n",
      "2              3         1       3   \n",
      "3              4         1       1   \n",
      "4              5         0       3   \n",
      "..           ...       ...     ...   \n",
      "886          887         0       2   \n",
      "887          888         1       1   \n",
      "888          889         0       3   \n",
      "889          890         1       1   \n",
      "890          891         0       3   \n",
      "\n",
      "                                                  Name     Sex   Age  SibSp  \\\n",
      "0                              Braund, Mr. Owen Harris    male  22.0      1   \n",
      "1    Cumings, Mrs. John Bradley (Florence Briggs Th...  female  38.0      1   \n",
      "2                               Heikkinen, Miss. Laina  female  26.0      0   \n",
      "3         Futrelle, Mrs. Jacques Heath (Lily May Peel)  female  35.0      1   \n",
      "4                             Allen, Mr. William Henry    male  35.0      0   \n",
      "..                                                 ...     ...   ...    ...   \n",
      "886                              Montvila, Rev. Juozas    male  27.0      0   \n",
      "887                       Graham, Miss. Margaret Edith  female  19.0      0   \n",
      "888           Johnston, Miss. Catherine Helen \"Carrie\"  female   NaN      1   \n",
      "889                              Behr, Mr. Karl Howell    male  26.0      0   \n",
      "890                                Dooley, Mr. Patrick    male  32.0      0   \n",
      "\n",
      "     Parch            Ticket     Fare Cabin Embarked  Childs  \n",
      "0        0         A/5 21171   7.2500   NaN        S      10  \n",
      "1        0          PC 17599  71.2833   C85        C      10  \n",
      "2        0  STON/O2. 3101282   7.9250   NaN        S      10  \n",
      "3        0            113803  53.1000  C123        S      10  \n",
      "4        0            373450   8.0500   NaN        S      10  \n",
      "..     ...               ...      ...   ...      ...     ...  \n",
      "886      0            211536  13.0000   NaN        S      10  \n",
      "887      0            112053  30.0000   B42        S      10  \n",
      "888      2        W./C. 6607  23.4500   NaN        S      10  \n",
      "889      0            111369  30.0000  C148        C      10  \n",
      "890      0            370376   7.7500   NaN        Q      10  \n",
      "\n",
      "[891 rows x 13 columns]\n"
     ]
    }
   ],
   "source": [
    "df['Childs'] = 10\n",
    "\n",
    "print(df)"
   ]
  },
  {
   "cell_type": "markdown",
   "id": "4a34a0d3",
   "metadata": {},
   "source": [
    "# Step-13  Perform Condition Selection on DataFrame"
   ]
  },
  {
   "cell_type": "code",
   "execution_count": 31,
   "id": "6cbe71fc",
   "metadata": {},
   "outputs": [
    {
     "name": "stdout",
     "output_type": "stream",
     "text": [
      "     PassengerId  Survived  Pclass                                  Name  \\\n",
      "7              8         0       3        Palsson, Master. Gosta Leonard   \n",
      "9             10         1       2   Nasser, Mrs. Nicholas (Adele Achem)   \n",
      "10            11         1       3       Sandstrom, Miss. Marguerite Rut   \n",
      "14            15         0       3  Vestrom, Miss. Hulda Amanda Adolfina   \n",
      "16            17         0       3                  Rice, Master. Eugene   \n",
      "..           ...       ...     ...                                   ...   \n",
      "855          856         1       3            Aks, Mrs. Sam (Leah Rosen)   \n",
      "869          870         1       3       Johnson, Master. Harold Theodor   \n",
      "875          876         1       3      Najib, Miss. Adele Kiamie \"Jane\"   \n",
      "877          878         0       3                  Petroff, Mr. Nedelio   \n",
      "887          888         1       1          Graham, Miss. Margaret Edith   \n",
      "\n",
      "        Sex   Age  SibSp  Parch   Ticket     Fare Cabin Embarked  Childs  \n",
      "7      male   2.0      3      1   349909  21.0750   NaN        S      10  \n",
      "9    female  14.0      1      0   237736  30.0708   NaN        C      10  \n",
      "10   female   4.0      1      1  PP 9549  16.7000    G6        S      10  \n",
      "14   female  14.0      0      0   350406   7.8542   NaN        S      10  \n",
      "16     male   2.0      4      1   382652  29.1250   NaN        Q      10  \n",
      "..      ...   ...    ...    ...      ...      ...   ...      ...     ...  \n",
      "855  female  18.0      0      1   392091   9.3500   NaN        S      10  \n",
      "869    male   4.0      1      1   347742  11.1333   NaN        S      10  \n",
      "875  female  15.0      0      0     2667   7.2250   NaN        C      10  \n",
      "877    male  19.0      0      0   349212   7.8958   NaN        S      10  \n",
      "887  female  19.0      0      0   112053  30.0000   B42        S      10  \n",
      "\n",
      "[164 rows x 13 columns]\n"
     ]
    }
   ],
   "source": [
    "print(df[df['Age'] < 20])"
   ]
  },
  {
   "cell_type": "markdown",
   "id": "5a826e0b",
   "metadata": {},
   "source": [
    "# Step-14 Compute the sum of value"
   ]
  },
  {
   "cell_type": "code",
   "execution_count": 34,
   "id": "1de97513",
   "metadata": {},
   "outputs": [
    {
     "name": "stdout",
     "output_type": "stream",
     "text": [
      "Sum value for Fare\n",
      "28693.9493\n"
     ]
    }
   ],
   "source": [
    "print(\"Sum value for Fare\")\n",
    "print(df['Fare'].sum())"
   ]
  },
  {
   "cell_type": "markdown",
   "id": "e170830c",
   "metadata": {},
   "source": [
    "# Step-15 Compute the mean of value"
   ]
  },
  {
   "cell_type": "code",
   "execution_count": 35,
   "id": "45e01f32",
   "metadata": {},
   "outputs": [
    {
     "name": "stdout",
     "output_type": "stream",
     "text": [
      "Mean value for Fare\n",
      "32.204207968574636\n"
     ]
    }
   ],
   "source": [
    "print(\"Mean value for Fare\")\n",
    "print(df['Fare'].mean())"
   ]
  },
  {
   "cell_type": "markdown",
   "id": "cddd8d1c",
   "metadata": {},
   "source": [
    "# Step-16 Count non-null value (column)"
   ]
  },
  {
   "cell_type": "code",
   "execution_count": 38,
   "id": "06bea0ae",
   "metadata": {},
   "outputs": [
    {
     "name": "stdout",
     "output_type": "stream",
     "text": [
      "Count of Cabin Non-Null value\n",
      "204\n"
     ]
    }
   ],
   "source": [
    "print(\"Count of Cabin Non-Null value\")\n",
    "print(df['Cabin'].count())"
   ]
  },
  {
   "cell_type": "markdown",
   "id": "5d5e3858",
   "metadata": {},
   "source": [
    "# Step-17 Find Minimun or Maximum values"
   ]
  },
  {
   "cell_type": "code",
   "execution_count": 36,
   "id": "c6af8899",
   "metadata": {},
   "outputs": [
    {
     "name": "stdout",
     "output_type": "stream",
     "text": [
      "Max value for Fare\n",
      "512.3292\n",
      "Min value for Fare\n",
      "0.0\n"
     ]
    }
   ],
   "source": [
    "print(\"Max value for Fare\")\n",
    "print(df['Fare'].max())\n",
    "print(\"Min value for Fare\")\n",
    "print(df['Fare'].min())"
   ]
  },
  {
   "cell_type": "code",
   "execution_count": null,
   "id": "c39238a5-9384-4ab5-b9f4-c703532b4bf0",
   "metadata": {},
   "outputs": [],
   "source": []
  }
 ],
 "metadata": {
  "kernelspec": {
   "display_name": "Python 3 (ipykernel)",
   "language": "python",
   "name": "python3"
  },
  "language_info": {
   "codemirror_mode": {
    "name": "ipython",
    "version": 3
   },
   "file_extension": ".py",
   "mimetype": "text/x-python",
   "name": "python",
   "nbconvert_exporter": "python",
   "pygments_lexer": "ipython3",
   "version": "3.12.7"
  }
 },
 "nbformat": 4,
 "nbformat_minor": 5
}
